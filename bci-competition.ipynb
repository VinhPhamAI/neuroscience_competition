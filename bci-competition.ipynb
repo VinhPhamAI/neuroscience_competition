{
 "cells": [
  {
   "cell_type": "markdown",
   "metadata": {},
   "source": [
    "# ATTENTION: PLEASE SEE THE README FILE AND CREATE A CONDA ENVIRONMENT WITH THE GIVEN .yml FILE, USE THAT ENVIRONMENT TO RUN THIS SCRIPT."
   ]
  },
  {
   "cell_type": "markdown",
   "metadata": {
    "_cell_guid": "03da3891-440e-4ceb-86b0-e11597a2a777",
    "_uuid": "b9f4f0ba-bad1-47b3-ad5b-4d962d1cb918",
    "collapsed": false,
    "jupyter": {
     "outputs_hidden": false
    },
    "trusted": true
   },
   "source": [
    "# Libraries (only needed in Kaggle environment) and Dataset download "
   ]
  },
  {
   "cell_type": "code",
   "execution_count": null,
   "metadata": {
    "_cell_guid": "9af932ce-79d4-4108-9ef0-403a77ac2eae",
    "_uuid": "cb94c4d1-2ffb-4d7b-ae68-8fcc34307e4b",
    "collapsed": false,
    "execution": {
     "iopub.execute_input": "2024-12-26T12:44:54.266344Z",
     "iopub.status.busy": "2024-12-26T12:44:54.266041Z",
     "iopub.status.idle": "2024-12-26T12:44:54.270185Z",
     "shell.execute_reply": "2024-12-26T12:44:54.269014Z",
     "shell.execute_reply.started": "2024-12-26T12:44:54.266321Z"
    },
    "jupyter": {
     "outputs_hidden": false
    },
    "trusted": true
   },
   "outputs": [],
   "source": [
    "# !pip install mne\n",
    "!kaggle datasets download -d huephamkim/brain-age -p data/brain_age"
   ]
  },
  {
   "cell_type": "markdown",
   "metadata": {
    "_cell_guid": "9d7c2c3a-a748-4f90-ab2f-28ff7fcc2b52",
    "_uuid": "ec7c23ca-08d4-4645-ba2f-e0f2f9ddea51",
    "collapsed": false,
    "jupyter": {
     "outputs_hidden": false
    },
    "trusted": true
   },
   "source": [
    "# Imports"
   ]
  },
  {
   "cell_type": "code",
   "execution_count": null,
   "metadata": {
    "_cell_guid": "757fcfb8-5cb2-4cd9-827c-9d22a9521d0e",
    "_uuid": "6912d01e-e1f8-4185-a70f-1234d6130548",
    "collapsed": false,
    "execution": {
     "iopub.execute_input": "2024-12-26T14:11:57.747461Z",
     "iopub.status.busy": "2024-12-26T14:11:57.747081Z",
     "iopub.status.idle": "2024-12-26T14:11:57.753775Z",
     "shell.execute_reply": "2024-12-26T14:11:57.752754Z",
     "shell.execute_reply.started": "2024-12-26T14:11:57.747439Z"
    },
    "jupyter": {
     "outputs_hidden": false
    },
    "trusted": true
   },
   "outputs": [],
   "source": [
    "import gc\n",
    "import os\n",
    "import zipfile\n",
    "\n",
    "import kagglehub\n",
    "import matplotlib.pyplot as plt\n",
    "import mne\n",
    "import numpy as np\n",
    "import pandas as pd\n",
    "import psutil\n",
    "import seaborn as sns\n",
    "import tensorflow as tf\n",
    "from joblib import Parallel, delayed\n",
    "from scipy.signal import welch\n",
    "from scipy.stats import kurtosis, skew\n",
    "from sklearn.model_selection import train_test_split\n",
    "from sklearn.preprocessing import MinMaxScaler, StandardScaler\n",
    "from sklearn.utils import shuffle\n",
    "from tensorflow.keras.callbacks import EarlyStopping, ReduceLROnPlateau\n",
    "from tensorflow.keras.layers import (BatchNormalization, Bidirectional, Conv2D, Dense, \n",
    "                                     Dropout, Flatten, LSTM, MaxPooling2D, Reshape, \n",
    "                                     TimeDistributed)\n",
    "from tensorflow.keras.models import Sequential\n",
    "from tensorflow.keras.regularizers import l2\n",
    "from tqdm.auto import tqdm\n"
   ]
  },
  {
   "cell_type": "markdown",
   "metadata": {
    "_cell_guid": "976a7966-dc19-43fc-953f-54e86592f0d1",
    "_uuid": "086e165e-05b3-4d58-bcc1-ba85a6ff0eef",
    "collapsed": false,
    "jupyter": {
     "outputs_hidden": false
    },
    "trusted": true
   },
   "source": [
    "# Data download"
   ]
  },
  {
   "cell_type": "code",
   "execution_count": null,
   "metadata": {
    "_cell_guid": "08318b2f-6dca-43a4-a02a-e0236af0a979",
    "_uuid": "3c36be99-18f4-4335-a511-065119b51035",
    "collapsed": false,
    "execution": {
     "iopub.execute_input": "2024-12-26T12:48:49.131470Z",
     "iopub.status.busy": "2024-12-26T12:48:49.130876Z",
     "iopub.status.idle": "2024-12-26T12:48:49.669908Z",
     "shell.execute_reply": "2024-12-26T12:48:49.669001Z",
     "shell.execute_reply.started": "2024-12-26T12:48:49.131441Z"
    },
    "jupyter": {
     "outputs_hidden": false
    },
    "trusted": true
   },
   "outputs": [],
   "source": [
    "# Path to the ZIP file\n",
    "zip_file_path = 'data/brain_age/brain-age.zip'\n",
    "\n",
    "# Destination folder\n",
    "extract_to_path = 'data/brain_age'\n",
    "\n",
    "# Create the folder if it doesn't exist\n",
    "os.makedirs(extract_to_path, exist_ok=True)\n",
    "\n",
    "# Extract the ZIP file\n",
    "with zipfile.ZipFile(zip_file_path, 'r') as zip_ref:\n",
    "    zip_ref.extractall(extract_to_path)\n",
    "\n",
    "print(f\"Dataset extracted to: {extract_to_path}\")\n"
   ]
  },
  {
   "cell_type": "markdown",
   "metadata": {
    "_cell_guid": "2bf9f7a0-2369-4f62-a772-0047711e6e47",
    "_uuid": "86cd2205-b673-4aa6-8d79-04a357cd000e",
    "collapsed": false,
    "jupyter": {
     "outputs_hidden": false
    },
    "trusted": true
   },
   "source": [
    "# Plotting the age distribution of the data"
   ]
  },
  {
   "cell_type": "code",
   "execution_count": null,
   "metadata": {
    "_cell_guid": "5c568286-0108-4ea5-b0f0-83ca71152f47",
    "_uuid": "4ee1b1df-a871-4a04-bd45-99a89c763968",
    "collapsed": false,
    "execution": {
     "iopub.execute_input": "2024-12-26T12:49:04.655412Z",
     "iopub.status.busy": "2024-12-26T12:49:04.654946Z",
     "iopub.status.idle": "2024-12-26T12:49:04.684863Z",
     "shell.execute_reply": "2024-12-26T12:49:04.683733Z",
     "shell.execute_reply.started": "2024-12-26T12:49:04.655368Z"
    },
    "jupyter": {
     "outputs_hidden": false
    },
    "trusted": true
   },
   "outputs": [],
   "source": [
    "file_path = 'data/brain_age/filtered_subjects_with_age.tsv' \n",
    "label = pd.read_csv(file_path, sep='\\t')\n",
    "\n",
    "label"
   ]
  },
  {
   "cell_type": "code",
   "execution_count": null,
   "metadata": {
    "_cell_guid": "469c276b-0ef2-4e48-a9e0-e2dadaa04865",
    "_uuid": "e4aab404-85bf-4c94-8f7b-6aa56b69f94c",
    "collapsed": false,
    "execution": {
     "iopub.execute_input": "2024-12-26T12:49:22.072011Z",
     "iopub.status.busy": "2024-12-26T12:49:22.071661Z",
     "iopub.status.idle": "2024-12-26T12:49:22.469676Z",
     "shell.execute_reply": "2024-12-26T12:49:22.468842Z",
     "shell.execute_reply.started": "2024-12-26T12:49:22.071983Z"
    },
    "jupyter": {
     "outputs_hidden": false
    },
    "trusted": true
   },
   "outputs": [],
   "source": [
    "# Extract the values of the 'participant_id' column from the label\n",
    "subjects=label['participant_id'].values\n",
    "filtered_data = label[label['participant_id'].isin(subjects)]\n",
    "\n",
    "# Displays a histogram showing the age frequency of the data\n",
    "plt.figure(figsize=(10, 6))\n",
    "sns.histplot(filtered_data['age'], bins=25, kde=True, color='red', label='Age Distribution')\n",
    "plt.title(f'Age Distribution of {160} Subjects', fontsize=16)\n",
    "plt.xlabel('Age', fontsize=14)\n",
    "plt.ylabel('Frequency', fontsize=14)\n",
    "plt.legend()\n",
    "plt.grid(axis='y', linestyle='--', alpha=0.7)\n",
    "plt.show()"
   ]
  },
  {
   "cell_type": "markdown",
   "metadata": {
    "_cell_guid": "36c3504e-5c76-4389-85e9-a28d3761ac6e",
    "_uuid": "a704e6ab-2a15-4855-a066-5c9207a34e3b",
    "collapsed": false,
    "jupyter": {
     "outputs_hidden": false
    },
    "trusted": true
   },
   "source": [
    "# Data Preprocessing functions"
   ]
  },
  {
   "cell_type": "code",
   "execution_count": 58,
   "metadata": {
    "_cell_guid": "c225851d-637c-44e7-911e-076530417fc6",
    "_uuid": "c67ec227-a9c9-4fd8-a6b4-4c2adce9f4f3",
    "collapsed": false,
    "execution": {
     "iopub.execute_input": "2024-12-26T12:49:34.844303Z",
     "iopub.status.busy": "2024-12-26T12:49:34.844012Z",
     "iopub.status.idle": "2024-12-26T12:49:34.851331Z",
     "shell.execute_reply": "2024-12-26T12:49:34.850311Z",
     "shell.execute_reply.started": "2024-12-26T12:49:34.844282Z"
    },
    "jupyter": {
     "outputs_hidden": false
    },
    "trusted": true
   },
   "outputs": [],
   "source": [
    "def load_and_split_data(labels_df, data_dir):\n",
    "    \"\"\"\n",
    "    Loads and preprocesses EEG data for each subject listed in the given labels dataframe.\n",
    "\n",
    "    Parameters:\n",
    "    ----------\n",
    "    labels_df : pd.DataFrame\n",
    "        Dataframe containing participant IDs and their corresponding ages.\n",
    "    data_dir : str\n",
    "        The directory containing EEG data files. Each file is named as \n",
    "        '{participant_id}_sflip_parc-raw.fif'.\n",
    "\n",
    "    Returns:\n",
    "    -------\n",
    "    tuple\n",
    "        A tuple containing:\n",
    "        - datas (numpy.ndarray): A 3D array of shape (n_samples, n_channels, n_timepoints),\n",
    "          representing the processed EEG data for all subjects and epochs.\n",
    "        - labels (numpy.ndarray): A 1D array of shape (n_samples,) containing the age labels\n",
    "          corresponding to each sample in the `datas` array.\n",
    "\n",
    "    Raises:\n",
    "    ------\n",
    "    ValueError\n",
    "        If no valid data is found after preprocessing, indicating that the provided data\n",
    "        did not meet the preprocessing requirements.\n",
    "\n",
    "    Notes:\n",
    "    ------\n",
    "    - This function expects EEG data in FIF format, with misc channels available.\n",
    "    - The preprocessing includes:\n",
    "        1. Selecting only misc channels.\n",
    "        2. Resampling the data to 250 Hz.\n",
    "        3. Creating fixed-length epochs of 6 seconds each.\n",
    "    - Each epoch is associated with the age of the subject from the TSV file.\n",
    "    \"\"\"\n",
    "    id_to_age = dict(zip(labels_df['participant_id'], labels_df['age']))\n",
    "    subjects = labels_df['participant_id'].values\n",
    "    \n",
    "    datas = []\n",
    "    labels = []\n",
    "    \n",
    "    for subject in tqdm(subjects):\n",
    "        path = f\"{data_dir}/{subject}_sflip_parc-raw.fif\"\n",
    "        raw = mne.io.read_raw_fif(path, preload=True, verbose=False)\n",
    "        \n",
    "        # Get misc channel indices\n",
    "        misc_picks = mne.pick_types(raw.info, misc=True)\n",
    "        if len(misc_picks) == 0:\n",
    "            print(f\"Warning: No misc channels found for subject {subject}\")\n",
    "            continue\n",
    "            \n",
    "        # Apply preprocessing\n",
    "        raw.pick_types(misc=True)\n",
    "        raw.resample(250)\n",
    "        \n",
    "        epochs = mne.make_fixed_length_epochs(raw, duration=6)\n",
    "        data = epochs.get_data()\n",
    "        \n",
    "        for epoch_data in data:\n",
    "            datas.append(epoch_data)\n",
    "            labels.append(id_to_age[subject])\n",
    "    \n",
    "    if len(datas) == 0:\n",
    "        raise ValueError(\"No valid data found after preprocessing\")\n",
    "        \n",
    "    return np.array(datas), np.array(labels)"
   ]
  },
  {
   "cell_type": "code",
   "execution_count": 59,
   "metadata": {
    "_cell_guid": "354673ae-bed6-4eec-a24d-5fd8dde60422",
    "_uuid": "ffe103ec-272b-430d-a0e4-ab389d07be0d",
    "collapsed": false,
    "execution": {
     "iopub.execute_input": "2024-12-26T12:49:37.354948Z",
     "iopub.status.busy": "2024-12-26T12:49:37.354636Z",
     "iopub.status.idle": "2024-12-26T12:49:37.361314Z",
     "shell.execute_reply": "2024-12-26T12:49:37.360357Z",
     "shell.execute_reply.started": "2024-12-26T12:49:37.354924Z"
    },
    "jupyter": {
     "outputs_hidden": false
    },
    "trusted": true
   },
   "outputs": [],
   "source": [
    "def load_and_preprocess_data(labels_df, data_dir):\n",
    "    \"\"\"\n",
    "    Loads and preprocesses EEG data for each subject listed in the given labels dataframe.\n",
    "    \n",
    "    Parameters:\n",
    "    ----------\n",
    "    labels_df : pd.DataFrame\n",
    "        Dataframe containing participant IDs and their corresponding ages.\n",
    "    data_dir : str\n",
    "        The directory containing EEG data files. Each file is named as \n",
    "        '{participant_id}_sflip_parc-raw.fif'.\n",
    "        \n",
    "    Returns:\n",
    "    -------\n",
    "    tuple\n",
    "        A tuple containing:\n",
    "        - datas (numpy.ndarray): A 3D array of shape (n_samples, n_channels, n_timepoints),\n",
    "          representing the processed EEG data for all subjects and epochs.\n",
    "        - labels (numpy.ndarray): A 1D array of shape (n_samples,) containing the age labels\n",
    "          corresponding to each sample in the `datas` array.\n",
    "\n",
    "    \n",
    "    Raises:\n",
    "    ------\n",
    "    ValueError\n",
    "        If no valid data is found after preprocessing, indicating that the provided data\n",
    "        did not meet the preprocessing requirements.\n",
    "    \n",
    "    Notes:\n",
    "    ------\n",
    "    - This function expects EEG data in FIF format, with misc channels available.\n",
    "    - The preprocessing includes:\n",
    "        1. Selecting only misc channels.\n",
    "        2. Resampling the data to 250 Hz.\n",
    "        3. The data is filtered with a bandpass filter between 1 Hz and 100 Hz\n",
    "        4. Creating fixed-length epochs of 6 seconds each.\n",
    "    - Each epoch is associated with the age of the subject from the TSV file.\n",
    "    \"\"\"\n",
    "    id_to_age = dict(zip(labels_df['participant_id'], labels_df['age']))\n",
    "    subjects = labels_df['participant_id'].values\n",
    "    \n",
    "    datas = []\n",
    "    labels = []\n",
    "    \n",
    "    for subject in tqdm(subjects):\n",
    "        path = f\"{data_dir}/{subject}_sflip_parc-raw.fif\"\n",
    "        raw = mne.io.read_raw_fif(path, preload=True, verbose=False)\n",
    "        \n",
    "        # Get misc channel indices\n",
    "        misc_picks = mne.pick_types(raw.info, misc=True)\n",
    "        if len(misc_picks) == 0:\n",
    "            print(f\"Warning: No misc channels found for subject {subject}\")\n",
    "            continue\n",
    "            \n",
    "        # Apply preprocessing\n",
    "        raw.pick_types(misc=True)\n",
    "        raw.resample(250)\n",
    "        raw.filter(l_freq=1, h_freq=100, picks='misc')\n",
    "        \n",
    "        epochs = mne.make_fixed_length_epochs(raw, duration=6)\n",
    "        data = epochs.get_data()\n",
    "        \n",
    "        for epoch_data in data:\n",
    "            datas.append(epoch_data)\n",
    "            labels.append(id_to_age[subject])\n",
    "    \n",
    "    if len(datas) == 0:\n",
    "        raise ValueError(\"No valid data found after preprocessing\")\n",
    "        \n",
    "    return np.array(datas), np.array(labels)"
   ]
  },
  {
   "cell_type": "code",
   "execution_count": 60,
   "metadata": {
    "_cell_guid": "6e390af2-2777-41d5-ab86-4bf4548187a2",
    "_uuid": "5a990ba3-ea4f-4236-8708-7f6d591fd535",
    "collapsed": false,
    "execution": {
     "iopub.execute_input": "2024-12-26T12:49:47.832612Z",
     "iopub.status.busy": "2024-12-26T12:49:47.832281Z",
     "iopub.status.idle": "2024-12-26T12:49:47.838920Z",
     "shell.execute_reply": "2024-12-26T12:49:47.837973Z",
     "shell.execute_reply.started": "2024-12-26T12:49:47.832588Z"
    },
    "jupyter": {
     "outputs_hidden": false
    },
    "trusted": true
   },
   "outputs": [],
   "source": [
    "def calc_Features(signal):\n",
    "    \"\"\"\n",
    "    Extracts a variety of time-domain, frequency-domain, and complexity features from the given signal.\n",
    "    \n",
    "    This function calculates multiple statistical and spectral features that describe the signal's properties.\n",
    "    It includes both time-domain features (such as mean, variance, kurtosis) and frequency-domain features (such as\n",
    "    spectral power and peak frequency). Additionally, it computes a simple complexity measure.\n",
    "\n",
    "    Parameters:\n",
    "    ----------\n",
    "    signal: array-like\n",
    "        The input signal (e.g., EEG signal) for which the features will be extracted. \n",
    "        The signal should be a 1D array or list of numerical values.\n",
    "\n",
    "    Returns:\n",
    "    -------\n",
    "    np.ndarray: A numpy array containing the extracted features. The array includes time-domain features, \n",
    "        frequency-domain features, and complexity measures in the following order:\n",
    "        - Time-domain features: mean, standard deviation, variance, kurtosis, skewness, max, min,\n",
    "          mean absolute value, and median absolute value.\n",
    "        - Frequency-domain features: standard deviation, max, peak frequency, and spectral centroid.\n",
    "        - Complexity measures: mean absolute difference.\n",
    "\n",
    "    Notes:\n",
    "    ------\n",
    "    - The frequency-domain features are computed using the Power Spectral Density (PSD) estimate obtained via \n",
    "      the Welch method. The sampling frequency is assumed to be 250 Hz.\n",
    "    - The time-domain features are derived from basic statistical operations on the signal.\n",
    "    - The function assumes that the input signal is 1D, and any multi-dimensional signal should be flattened\n",
    "      prior to calling the function.\n",
    "    \"\"\"\n",
    "    # Convert the signal to a numpy array\n",
    "    signal = np.array(signal)\n",
    "    features = []\n",
    "    \n",
    "    # Time domain features\n",
    "    features.extend([\n",
    "        np.mean(signal),  # Mean\n",
    "        np.std(signal),   # Standard deviation\n",
    "        np.var(signal),   # Variance\n",
    "        kurtosis(signal), # Kurtosis\n",
    "        skew(signal),     # Skewness\n",
    "        np.max(signal),   # Maximum value\n",
    "        np.min(signal),   # Minimum value\n",
    "        np.mean(np.abs(signal)),  # Mean of the absolute values\n",
    "        np.median(np.abs(signal)) # Median of the absolute values\n",
    "    ])\n",
    "    \n",
    "    # Frequency domain features\n",
    "    freqs, psd = welch(signal, fs=250, nperseg=min(len(signal), 256))  # Calculate PSD\n",
    "    features.extend([\n",
    "        np.std(psd),                # Standard deviation of the power spectral density\n",
    "        np.max(psd),                # Maximum value in the power spectral density\n",
    "        freqs[np.argmax(psd)],      # Peak frequency (frequency corresponding to max PSD)\n",
    "        np.mean(freqs * psd) / np.mean(psd)  # Spectral centroid (weighted average frequency)\n",
    "    ])\n",
    "    \n",
    "    # Complexity measures\n",
    "    features.extend([\n",
    "        np.mean(np.abs(np.diff(signal))),  # Mean absolute difference consecutive samples\n",
    "    ])\n",
    "    \n",
    "    return np.array(features)"
   ]
  },
  {
   "cell_type": "code",
   "execution_count": 61,
   "metadata": {
    "_cell_guid": "05e3aa60-588c-4d8b-a775-c1df9ef6797b",
    "_uuid": "5f80d546-5715-4d1d-8d52-e4890871836c",
    "collapsed": false,
    "execution": {
     "iopub.execute_input": "2024-12-26T12:49:51.397283Z",
     "iopub.status.busy": "2024-12-26T12:49:51.396988Z",
     "iopub.status.idle": "2024-12-26T12:49:51.402629Z",
     "shell.execute_reply": "2024-12-26T12:49:51.401781Z",
     "shell.execute_reply.started": "2024-12-26T12:49:51.397262Z"
    },
    "jupyter": {
     "outputs_hidden": false
    },
    "trusted": true
   },
   "outputs": [],
   "source": [
    "def extract_features_parallel(X):\n",
    "    \"\"\"\n",
    "    Extracts features from a multidimensional signal array in parallel across samples and channels.\n",
    "    \n",
    "    This function utilizes parallel processing to extract features from each channel of each sample in the input\n",
    "    array `X` by applying the `calc_Features` function. The computation is parallelized to speed up the extraction\n",
    "    process, especially useful for large datasets. The function returns a 3D array where each entry contains the \n",
    "    features extracted from a specific channel of a sample.\n",
    "\n",
    "    Parameters:\n",
    "    ----------\n",
    "    X: np.ndarray\n",
    "        A 3D numpy array representing the input signals with the shape (n_samples, n_channels, n_time_points),\n",
    "        where:\n",
    "        - `n_samples` is the number of samples (e.g., data points, subjects, or recordings).\n",
    "        - `n_channels` is the number of channels (e.g., EEG channels or sensor data).\n",
    "        - `n_time_points` is the length of the signal for each channel (e.g., the number of time samples or measurements).\n",
    "\n",
    "    Returns:\n",
    "    -------\n",
    "    np.ndarray: A 3D numpy array of extracted features with the shape (n_samples, n_channels, n_features),\n",
    "        where `n_features` is the number of features extracted for each channel from each sample. These features\n",
    "        are derived by applying the `calc_Features` function to each channel of each sample.\n",
    "\n",
    "    Notes:\n",
    "    ------\n",
    "    - The function assumes that the `calc_Features` function can extract a fixed set of features from each individual signal.\n",
    "    - Parallel processing is used through `joblib.Parallel` to speed up the computation by utilizing multiple CPU cores.\n",
    "    - The output shape will be `(n_samples, n_channels, n_features)`, where `n_features` is the number of features returned by `calc_Features`.\n",
    "    \"\"\"\n",
    "    n_samples, n_channels, _ = X.shape\n",
    "    features_list = Parallel(n_jobs=-1)(\n",
    "        delayed(calc_Features)(X[i, j]) \n",
    "        for i in tqdm(range(n_samples)) \n",
    "        for j in range(n_channels)\n",
    "    )\n",
    "    return np.array(features_list).reshape(n_samples, n_channels, -1)"
   ]
  },
  {
   "cell_type": "markdown",
   "metadata": {
    "_cell_guid": "f50010ef-66a8-4bb3-a8bd-8239a0b0b9c2",
    "_uuid": "e5c2c9b2-e078-4d44-a702-29875f6d1072",
    "collapsed": false,
    "jupyter": {
     "outputs_hidden": false
    },
    "trusted": true
   },
   "source": [
    "# Splitting data"
   ]
  },
  {
   "cell_type": "code",
   "execution_count": null,
   "metadata": {
    "_cell_guid": "63e37353-2850-4fb9-a370-ec4dffdc6c76",
    "_uuid": "809eef0e-2fa9-4692-860c-1daaa8b885a6",
    "collapsed": false,
    "execution": {
     "iopub.execute_input": "2024-12-26T12:50:43.942297Z",
     "iopub.status.busy": "2024-12-26T12:50:43.942010Z",
     "iopub.status.idle": "2024-12-26T12:50:43.949332Z",
     "shell.execute_reply": "2024-12-26T12:50:43.948430Z",
     "shell.execute_reply.started": "2024-12-26T12:50:43.942275Z"
    },
    "jupyter": {
     "outputs_hidden": false
    },
    "trusted": true
   },
   "outputs": [],
   "source": [
    "train_labels, test_labels = train_test_split(label, test_size=40, random_state=42)\n",
    "\n",
    "train_labels.shape, test_labels.shape"
   ]
  },
  {
   "cell_type": "markdown",
   "metadata": {
    "_cell_guid": "d7403729-adc1-4a41-9d86-268d5f02be02",
    "_uuid": "33637285-7567-45aa-8744-2544599bf0d2",
    "collapsed": false,
    "jupyter": {
     "outputs_hidden": false
    },
    "trusted": true
   },
   "source": [
    "# Models"
   ]
  },
  {
   "cell_type": "markdown",
   "metadata": {
    "_cell_guid": "1ee55c47-2782-45ad-b10d-e6e66e1aa571",
    "_uuid": "202bd689-0a1d-44e2-acd8-812b61c36879",
    "collapsed": false,
    "jupyter": {
     "outputs_hidden": false
    },
    "trusted": true
   },
   "source": [
    "## CNN-BiLSTM"
   ]
  },
  {
   "cell_type": "code",
   "execution_count": 12,
   "metadata": {
    "_cell_guid": "50e875c7-c6f3-4b24-8039-df359ee10224",
    "_uuid": "62771d79-7201-4613-9583-83772d065324",
    "collapsed": false,
    "execution": {
     "iopub.execute_input": "2024-12-26T13:10:40.783658Z",
     "iopub.status.busy": "2024-12-26T13:10:40.783346Z",
     "iopub.status.idle": "2024-12-26T13:10:40.789389Z",
     "shell.execute_reply": "2024-12-26T13:10:40.788501Z",
     "shell.execute_reply.started": "2024-12-26T13:10:40.783635Z"
    },
    "jupyter": {
     "outputs_hidden": false
    },
    "trusted": true
   },
   "outputs": [],
   "source": [
    "def CNN_BiLSTM(input_shape):\n",
    "    \"\"\"\n",
    "    Create a CNN + BiLSTM model for sequential data processing and prediction.\n",
    "\n",
    "    This function defines a deep learning model combining Convolutional Neural Networks (CNN) \n",
    "    for feature extraction and Bidirectional Long Short-Term Memory (BiLSTM) networks for \n",
    "    sequential data modeling.\n",
    "\n",
    "    Parameters:\n",
    "        input_shape (tuple): The shape of the input data (height, width, channels).\n",
    "\n",
    "    Returns:\n",
    "        model (Sequential): A compiled Keras Sequential model.\n",
    "\n",
    "    Model Architecture:\n",
    "        1. Convolutional Layers:\n",
    "            - Two Conv2D layers with ReLU activation for spatial feature extraction.\n",
    "            - BatchNormalization for stabilizing and accelerating training.\n",
    "            - MaxPooling2D for dimensionality reduction.\n",
    "            - Dropout to reduce overfitting.\n",
    "\n",
    "        2. Global Pooling:\n",
    "            - TimeDistributed Flatten layer for reducing dimensionality while preserving temporal order.\n",
    "\n",
    "        3. LSTM Layers:\n",
    "            - Bidirectional LSTM layer for capturing temporal dependencies in both directions.\n",
    "            - Additional LSTM layer for sequential processing.\n",
    "            - Dropout layers for regularization.\n",
    "\n",
    "        4. Fully Connected Layers:\n",
    "            - Dense layers for further feature abstraction.\n",
    "            - Final Dense layer with a linear activation for regression output.\n",
    "    \"\"\"\n",
    "    model = Sequential([\n",
    "        # Convolutional Layers\n",
    "        Conv2D(16, (3, 3), activation='relu', input_shape=input_shape),\n",
    "        BatchNormalization(),\n",
    "        MaxPooling2D(pool_size=(2, 2)),\n",
    "        Conv2D(32, (3, 3), activation='relu'),\n",
    "        BatchNormalization(),\n",
    "        MaxPooling2D(pool_size=(2, 2)),\n",
    "        Dropout(0.3),\n",
    "        \n",
    "        # Global Pooling for dimensionality reduction\n",
    "        TimeDistributed(Flatten()),\n",
    "        \n",
    "        # LSTM Layers\n",
    "        Bidirectional(LSTM(32, return_sequences=True)),\n",
    "        Dropout(0.3),\n",
    "        LSTM(20, return_sequences=False),\n",
    "        Dropout(0.3),\n",
    "        \n",
    "        # Fully Connected Layers\n",
    "        Dense(64, activation='relu'),\n",
    "        Dropout(0.5),\n",
    "        Dense(1, activation='linear')\n",
    "    ])\n",
    "    \n",
    "    return model"
   ]
  },
  {
   "cell_type": "markdown",
   "metadata": {
    "_cell_guid": "218cd9fc-1d47-4dbe-9612-b490b15f44e2",
    "_uuid": "b9f47f51-c96d-4138-86d4-0a6f2da3047f",
    "collapsed": false,
    "jupyter": {
     "outputs_hidden": false
    },
    "trusted": true
   },
   "source": [
    "### Approach 1: Training the model with raw data (no preprocessing)"
   ]
  },
  {
   "cell_type": "markdown",
   "metadata": {
    "_cell_guid": "db72c733-c5b9-427d-a254-3f71ccf5071f",
    "_uuid": "5f31131a-2ec3-464a-8c6f-9f17893779a5",
    "collapsed": false,
    "jupyter": {
     "outputs_hidden": false
    },
    "trusted": true
   },
   "source": [
    "**Loading the data withous processing**"
   ]
  },
  {
   "cell_type": "code",
   "execution_count": null,
   "metadata": {
    "_cell_guid": "ae5d8035-5912-430d-a5fa-d0b3aa0e7962",
    "_uuid": "2aea350b-9bcc-43fb-a20f-e1db13357a8c",
    "collapsed": false,
    "execution": {
     "iopub.execute_input": "2024-12-26T13:10:42.913573Z",
     "iopub.status.busy": "2024-12-26T13:10:42.913286Z",
     "iopub.status.idle": "2024-12-26T13:12:00.132668Z",
     "shell.execute_reply": "2024-12-26T13:12:00.131670Z",
     "shell.execute_reply.started": "2024-12-26T13:10:42.913551Z"
    },
    "jupyter": {
     "outputs_hidden": false
    },
    "trusted": true
   },
   "outputs": [],
   "source": [
    "# Set the logging level for MNE to 'ERROR'\n",
    "mne.set_log_level('ERROR')\n",
    "\n",
    "X_train, y_train = load_and_split_data(\n",
    "        train_labels,\n",
    "        \"data/brain_age\"\n",
    "    )\n",
    "\n",
    "X_test, y_test = load_and_split_data(\n",
    "        test_labels,\n",
    "        \"data/brain_age\"\n",
    "    )\n",
    "\n",
    "X_train.shape, X_test.shape"
   ]
  },
  {
   "cell_type": "code",
   "execution_count": 14,
   "metadata": {
    "_cell_guid": "b5c57fde-e713-4f96-9bec-4faabf3d36ed",
    "_uuid": "d5e5e5b4-33f3-44e8-a0f3-c757d23b8622",
    "collapsed": false,
    "execution": {
     "iopub.execute_input": "2024-12-26T13:12:00.134293Z",
     "iopub.status.busy": "2024-12-26T13:12:00.133947Z",
     "iopub.status.idle": "2024-12-26T13:12:02.654024Z",
     "shell.execute_reply": "2024-12-26T13:12:02.653027Z",
     "shell.execute_reply.started": "2024-12-26T13:12:00.134260Z"
    },
    "jupyter": {
     "outputs_hidden": false
    },
    "trusted": true
   },
   "outputs": [],
   "source": [
    "X_train, y_train = shuffle(X_train, y_train, random_state=42)\n",
    "X_test, y_test = shuffle(X_test, y_test, random_state=42)"
   ]
  },
  {
   "cell_type": "code",
   "execution_count": null,
   "metadata": {
    "_cell_guid": "afd1ee21-5606-40c8-8131-72d224d5ed00",
    "_uuid": "16e3c679-f8d8-425a-9606-7cb0f2eba157",
    "collapsed": false,
    "execution": {
     "iopub.execute_input": "2024-12-26T13:12:02.655869Z",
     "iopub.status.busy": "2024-12-26T13:12:02.655547Z",
     "iopub.status.idle": "2024-12-26T13:12:02.661495Z",
     "shell.execute_reply": "2024-12-26T13:12:02.660654Z",
     "shell.execute_reply.started": "2024-12-26T13:12:02.655829Z"
    },
    "jupyter": {
     "outputs_hidden": false
    },
    "trusted": true
   },
   "outputs": [],
   "source": [
    "y_train, y_test"
   ]
  },
  {
   "cell_type": "code",
   "execution_count": null,
   "metadata": {
    "_cell_guid": "866e4c84-ee68-4afc-9248-a7f995b3064b",
    "_uuid": "5ff8243a-f579-47ae-9372-e19a239421a7",
    "collapsed": false,
    "execution": {
     "iopub.execute_input": "2024-12-26T13:12:02.662755Z",
     "iopub.status.busy": "2024-12-26T13:12:02.662461Z",
     "iopub.status.idle": "2024-12-26T13:12:02.677300Z",
     "shell.execute_reply": "2024-12-26T13:12:02.676685Z",
     "shell.execute_reply.started": "2024-12-26T13:12:02.662735Z"
    },
    "jupyter": {
     "outputs_hidden": false
    },
    "trusted": true
   },
   "outputs": [],
   "source": [
    "X_train = np.expand_dims(X_train, axis=-1)\n",
    "X_test = np.expand_dims(X_test, axis=-1)\n",
    "\n",
    "X_train.shape, X_test.shape"
   ]
  },
  {
   "cell_type": "markdown",
   "metadata": {
    "_cell_guid": "894367dd-aaa4-4cf3-a8a3-e1fcf3dd3ceb",
    "_uuid": "73f483d4-a1b0-4522-94c6-356f5623065e",
    "collapsed": false,
    "jupyter": {
     "outputs_hidden": false
    },
    "trusted": true
   },
   "source": [
    "**Model configs**"
   ]
  },
  {
   "cell_type": "code",
   "execution_count": null,
   "metadata": {
    "_cell_guid": "817f04be-2a26-42c4-9742-89ce8eb9fac4",
    "_uuid": "6f2dc428-b570-4bfe-b8c3-f5886e285a02",
    "collapsed": false,
    "execution": {
     "iopub.execute_input": "2024-12-26T13:13:06.550847Z",
     "iopub.status.busy": "2024-12-26T13:13:06.550553Z",
     "iopub.status.idle": "2024-12-26T13:13:08.144587Z",
     "shell.execute_reply": "2024-12-26T13:13:08.143936Z",
     "shell.execute_reply.started": "2024-12-26T13:13:06.550826Z"
    },
    "jupyter": {
     "outputs_hidden": false
    },
    "trusted": true
   },
   "outputs": [],
   "source": [
    "model_1 = CNN_BiLSTM((X_train.shape[1], X_train.shape[2], X_train.shape[3]))\n",
    "\n",
    "# Compile the model\n",
    "model_1.compile(\n",
    "    optimizer='adam', \n",
    "    loss='mse', \n",
    "    metrics=['mae']\n",
    ")\n",
    "\n",
    "# Summary\n",
    "model_1.summary()"
   ]
  },
  {
   "cell_type": "code",
   "execution_count": 18,
   "metadata": {
    "_cell_guid": "8c0ef494-eac6-493d-ad3b-a5ae51816b44",
    "_uuid": "d1d51ad9-0093-4ca3-8dab-3296ccd3e0ea",
    "collapsed": false,
    "execution": {
     "iopub.execute_input": "2024-12-26T13:13:09.691682Z",
     "iopub.status.busy": "2024-12-26T13:13:09.691384Z",
     "iopub.status.idle": "2024-12-26T13:13:09.695605Z",
     "shell.execute_reply": "2024-12-26T13:13:09.694703Z",
     "shell.execute_reply.started": "2024-12-26T13:13:09.691659Z"
    },
    "jupyter": {
     "outputs_hidden": false
    },
    "trusted": true
   },
   "outputs": [],
   "source": [
    "early_stopping = EarlyStopping(\n",
    "    monitor='val_loss',\n",
    "    patience=10, \n",
    "    restore_best_weights=True  # Restore the weights of the best epoch\n",
    ")"
   ]
  },
  {
   "cell_type": "markdown",
   "metadata": {
    "_cell_guid": "72d8ac2c-21c1-40ec-984f-b07e862db795",
    "_uuid": "aa510940-180f-40c3-8014-cd5f7a3dc3a1",
    "collapsed": false,
    "jupyter": {
     "outputs_hidden": false
    },
    "trusted": true
   },
   "source": [
    "**Training**"
   ]
  },
  {
   "cell_type": "code",
   "execution_count": null,
   "metadata": {
    "_cell_guid": "978e0e2d-02d1-4010-8872-87b8d9706884",
    "_uuid": "1b5e7d90-62fa-4439-b9bb-613aab4c4021",
    "collapsed": false,
    "jupyter": {
     "outputs_hidden": false
    },
    "scrolled": true,
    "trusted": true
   },
   "outputs": [],
   "source": [
    "# training \n",
    "history = model_1.fit(\n",
    "    X_train, y_train, \n",
    "    validation_data=(X_test, y_test), \n",
    "    epochs=200, \n",
    "    batch_size=32, \n",
    "    callbacks=[early_stopping]\n",
    ")"
   ]
  },
  {
   "cell_type": "markdown",
   "metadata": {
    "_cell_guid": "8ca5b692-d2cb-4b39-9577-4bb5ebfc18fd",
    "_uuid": "7efdf7ee-6a8f-410b-9a40-e269d80e0129",
    "collapsed": false,
    "jupyter": {
     "outputs_hidden": false
    },
    "trusted": true
   },
   "source": [
    "**Evaluation**"
   ]
  },
  {
   "cell_type": "code",
   "execution_count": null,
   "metadata": {
    "_cell_guid": "19f61342-c2f1-46e7-97bb-c36c6d6d4447",
    "_uuid": "cf93e4f4-b8b6-4eba-ab74-960e40417c2f",
    "collapsed": false,
    "execution": {
     "iopub.execute_input": "2024-12-26T13:14:37.534538Z",
     "iopub.status.busy": "2024-12-26T13:14:37.534215Z",
     "iopub.status.idle": "2024-12-26T13:14:43.019249Z",
     "shell.execute_reply": "2024-12-26T13:14:43.018283Z",
     "shell.execute_reply.started": "2024-12-26T13:14:37.534510Z"
    },
    "jupyter": {
     "outputs_hidden": false
    },
    "trusted": true
   },
   "outputs": [],
   "source": [
    "loss, mae = model_1.evaluate(X_test, y_test)\n",
    "print(f\"Test Loss (MSE): {loss}, Test MAE: {mae}\")"
   ]
  },
  {
   "cell_type": "code",
   "execution_count": null,
   "metadata": {
    "_cell_guid": "5f4feac6-5eb3-49ef-b46e-c4b2372e2179",
    "_uuid": "36480a59-5806-4ee1-a6b0-f1b1e54304d3",
    "collapsed": false,
    "execution": {
     "iopub.execute_input": "2024-12-26T13:14:47.819609Z",
     "iopub.status.busy": "2024-12-26T13:14:47.819308Z",
     "iopub.status.idle": "2024-12-26T13:14:48.748027Z",
     "shell.execute_reply": "2024-12-26T13:14:48.747136Z",
     "shell.execute_reply.started": "2024-12-26T13:14:47.819574Z"
    },
    "jupyter": {
     "outputs_hidden": false
    },
    "scrolled": true,
    "trusted": true
   },
   "outputs": [],
   "source": [
    "y_pred = model_1.predict(X_test[::50])  # Model outputs predictions\n",
    "\n",
    "# Print predictions vs. real labels\n",
    "for i, real_label in enumerate(y_test[::50]):  # Use enumerate to get the index\n",
    "    print(f\"Sample {i+1}: Prediction = {y_pred[i][0]:.2f}, Real Label = {real_label:.2f}\")"
   ]
  },
  {
   "cell_type": "markdown",
   "metadata": {
    "_cell_guid": "84a4d67a-1ef9-4050-b2b6-65574f264e0f",
    "_uuid": "d347cca9-7a81-4e04-88ba-ea4cf08f944d",
    "collapsed": false,
    "jupyter": {
     "outputs_hidden": false
    },
    "trusted": true
   },
   "source": [
    "**Plotting learning curve**"
   ]
  },
  {
   "cell_type": "code",
   "execution_count": null,
   "metadata": {
    "_cell_guid": "87368114-066a-43bf-be62-86f7f6b2dfea",
    "_uuid": "6045cf4c-475f-4101-9064-d33581b98e71",
    "collapsed": false,
    "execution": {
     "iopub.execute_input": "2024-12-26T05:44:14.712942Z",
     "iopub.status.busy": "2024-12-26T05:44:14.712620Z",
     "iopub.status.idle": "2024-12-26T05:44:15.246572Z",
     "shell.execute_reply": "2024-12-26T05:44:15.245698Z",
     "shell.execute_reply.started": "2024-12-26T05:44:14.712909Z"
    },
    "jupyter": {
     "outputs_hidden": false
    },
    "trusted": true
   },
   "outputs": [],
   "source": [
    "# Extract loss and MAE data from the training history\n",
    "loss = history.history['loss']\n",
    "val_loss = history.history['val_loss']\n",
    "mae = history.history['mae']\n",
    "val_mae = history.history['val_mae']\n",
    "\n",
    "# Plot the loss and MAE graphs\n",
    "plt.figure(figsize=(12, 6))\n",
    "\n",
    "# Loss\n",
    "plt.subplot(1, 2, 1)\n",
    "plt.plot(range(1, len(loss) + 1), loss, label='Training Loss')\n",
    "plt.plot(range(1, len(val_loss) + 1), val_loss, label='Validation Loss')\n",
    "plt.xlabel('Epochs')\n",
    "plt.ylabel('Loss')\n",
    "plt.title('Loss over Epochs')\n",
    "plt.legend()\n",
    "\n",
    "# MAE\n",
    "plt.subplot(1, 2, 2)\n",
    "plt.plot(range(1, len(mae) + 1), mae, label='Training MAE')\n",
    "plt.plot(range(1, len(val_mae) + 1), val_mae, label='Validation MAE')\n",
    "plt.xlabel('Epochs')\n",
    "plt.ylabel('MAE')\n",
    "plt.title('MAE over Epochs')\n",
    "plt.legend()\n",
    "\n",
    "# Display\n",
    "plt.tight_layout()\n",
    "plt.show()"
   ]
  },
  {
   "cell_type": "markdown",
   "metadata": {
    "_cell_guid": "a147013a-5ea4-4774-80d8-a2052c4f8146",
    "_uuid": "78a5e85d-a214-40c6-b2e9-d1c5fbc5bbd9",
    "collapsed": false,
    "jupyter": {
     "outputs_hidden": false
    },
    "trusted": true
   },
   "source": [
    "**Deleting variables to save on RAM usage (Deletion for resources saving will be performed several times in this script)**"
   ]
  },
  {
   "cell_type": "code",
   "execution_count": 23,
   "metadata": {
    "_cell_guid": "1f2d623a-5f45-460a-94cb-59c209b474e7",
    "_uuid": "3aaa9e92-ba0c-4208-a7e2-b4c666a9b7d1",
    "collapsed": false,
    "execution": {
     "iopub.execute_input": "2024-12-26T13:16:51.496785Z",
     "iopub.status.busy": "2024-12-26T13:16:51.496505Z",
     "iopub.status.idle": "2024-12-26T13:16:51.500447Z",
     "shell.execute_reply": "2024-12-26T13:16:51.499519Z",
     "shell.execute_reply.started": "2024-12-26T13:16:51.496765Z"
    },
    "jupyter": {
     "outputs_hidden": false
    },
    "trusted": true
   },
   "outputs": [],
   "source": [
    "del X_train\n",
    "del X_test\n",
    "del y_train\n",
    "del y_test\n",
    "del model_1"
   ]
  },
  {
   "cell_type": "code",
   "execution_count": null,
   "metadata": {
    "_cell_guid": "4a3cd94c-3364-4974-8f90-adb8facd6b5c",
    "_uuid": "d08a66cd-dbbb-4dd7-9d20-2bdf8e0697a4",
    "collapsed": false,
    "execution": {
     "iopub.execute_input": "2024-12-26T13:17:08.879319Z",
     "iopub.status.busy": "2024-12-26T13:17:08.879004Z",
     "iopub.status.idle": "2024-12-26T13:17:09.109487Z",
     "shell.execute_reply": "2024-12-26T13:17:09.108625Z",
     "shell.execute_reply.started": "2024-12-26T13:17:08.879295Z"
    },
    "jupyter": {
     "outputs_hidden": false
    },
    "trusted": true
   },
   "outputs": [],
   "source": [
    "gc.collect()"
   ]
  },
  {
   "cell_type": "code",
   "execution_count": null,
   "metadata": {
    "_cell_guid": "6beeadf0-ce84-49e6-9bd7-76b348b1d1b0",
    "_uuid": "ee391dd3-e5fe-48fe-b23b-e447bba5cbe7",
    "collapsed": false,
    "execution": {
     "iopub.execute_input": "2024-12-26T13:17:10.427292Z",
     "iopub.status.busy": "2024-12-26T13:17:10.426992Z",
     "iopub.status.idle": "2024-12-26T13:17:10.433158Z",
     "shell.execute_reply": "2024-12-26T13:17:10.432214Z",
     "shell.execute_reply.started": "2024-12-26T13:17:10.427269Z"
    },
    "jupyter": {
     "outputs_hidden": false
    },
    "trusted": true
   },
   "outputs": [],
   "source": [
    "# Memory usage in MB\n",
    "process = psutil.Process()\n",
    "print(f\"Current memory usage: {process.memory_info().rss / (1024**2):.2f} MB\")"
   ]
  },
  {
   "cell_type": "markdown",
   "metadata": {
    "_cell_guid": "abcd73dd-2799-43ab-a330-53b3c874c409",
    "_uuid": "d565bc35-0a1c-4a2c-826b-8f0cb9b71730",
    "collapsed": false,
    "jupyter": {
     "outputs_hidden": false
    },
    "trusted": true
   },
   "source": [
    "### Approach 2: Training model with processed data"
   ]
  },
  {
   "cell_type": "code",
   "execution_count": null,
   "metadata": {
    "_cell_guid": "198a1cf9-5e2f-4f5f-bab7-f38377bed99d",
    "_uuid": "3566bac2-664c-45f0-9b54-ff91c43c09cf",
    "collapsed": false,
    "execution": {
     "iopub.execute_input": "2024-12-26T13:17:48.740710Z",
     "iopub.status.busy": "2024-12-26T13:17:48.740427Z",
     "iopub.status.idle": "2024-12-26T13:19:24.244681Z",
     "shell.execute_reply": "2024-12-26T13:19:24.243933Z",
     "shell.execute_reply.started": "2024-12-26T13:17:48.740690Z"
    },
    "jupyter": {
     "outputs_hidden": false
    },
    "trusted": true
   },
   "outputs": [],
   "source": [
    "mne.set_log_level('ERROR')\n",
    "\n",
    "X_train, y_train = load_and_preprocess_data(\n",
    "        train_labels,\n",
    "        \"data/brain_age\"\n",
    "    )\n",
    "\n",
    "X_test, y_test = load_and_preprocess_data(\n",
    "        test_labels,\n",
    "        \"data/brain_age\"\n",
    "    )\n",
    "\n",
    "X_train.shape, X_test.shape"
   ]
  },
  {
   "cell_type": "code",
   "execution_count": null,
   "metadata": {
    "_cell_guid": "8f6ef169-4be8-4071-b01b-f71623833005",
    "_uuid": "7aa8b7d5-0b07-422a-94cb-cd86e6130256",
    "collapsed": false,
    "execution": {
     "iopub.execute_input": "2024-12-26T13:20:07.635111Z",
     "iopub.status.busy": "2024-12-26T13:20:07.634766Z",
     "iopub.status.idle": "2024-12-26T13:20:14.284308Z",
     "shell.execute_reply": "2024-12-26T13:20:14.283406Z",
     "shell.execute_reply.started": "2024-12-26T13:20:07.635087Z"
    },
    "jupyter": {
     "outputs_hidden": false
    },
    "trusted": true
   },
   "outputs": [],
   "source": [
    "X_train, y_train = shuffle(X_train, y_train, random_state=42)\n",
    "X_test, y_test = shuffle(X_test, y_test, random_state=42)\n",
    "\n",
    "y_train, y_test"
   ]
  },
  {
   "cell_type": "code",
   "execution_count": null,
   "metadata": {
    "_cell_guid": "0c4520f8-1696-464f-aefe-db544269bf76",
    "_uuid": "33d7fe1c-72c4-49ff-b4a2-d623b9c17ded",
    "collapsed": false,
    "execution": {
     "iopub.execute_input": "2024-12-26T13:20:18.837195Z",
     "iopub.status.busy": "2024-12-26T13:20:18.836829Z",
     "iopub.status.idle": "2024-12-26T13:30:11.919383Z",
     "shell.execute_reply": "2024-12-26T13:30:11.918373Z",
     "shell.execute_reply.started": "2024-12-26T13:20:18.837167Z"
    },
    "jupyter": {
     "outputs_hidden": false
    },
    "trusted": true
   },
   "outputs": [],
   "source": [
    "print(\"Extracting features...\")\n",
    "X_train_features = extract_features_parallel(X_train)\n",
    "X_test_features = extract_features_parallel(X_test)"
   ]
  },
  {
   "cell_type": "code",
   "execution_count": 29,
   "metadata": {
    "_cell_guid": "7d86730e-54f7-4fa2-b71f-87e7044b67b1",
    "_uuid": "2b207bf0-e44a-49cd-9078-496edd9720f8",
    "collapsed": false,
    "execution": {
     "iopub.execute_input": "2024-12-26T13:40:11.349856Z",
     "iopub.status.busy": "2024-12-26T13:40:11.349523Z",
     "iopub.status.idle": "2024-12-26T13:40:11.599954Z",
     "shell.execute_reply": "2024-12-26T13:40:11.598832Z",
     "shell.execute_reply.started": "2024-12-26T13:40:11.349834Z"
    },
    "jupyter": {
     "outputs_hidden": false
    },
    "trusted": true
   },
   "outputs": [],
   "source": [
    "del X_train\n",
    "del X_test"
   ]
  },
  {
   "cell_type": "markdown",
   "metadata": {
    "_cell_guid": "a5b9f6fd-3102-4a2e-b384-93fddef0e011",
    "_uuid": "319fa89b-9ea4-40ac-bec7-8c5911b5eb62",
    "collapsed": false,
    "jupyter": {
     "outputs_hidden": false
    },
    "trusted": true
   },
   "source": [
    "**Scaling data**"
   ]
  },
  {
   "cell_type": "code",
   "execution_count": null,
   "metadata": {
    "_cell_guid": "33bb27a6-a610-4a6d-b1c0-f317bfe7dcc2",
    "_uuid": "1a1de090-fc03-4910-858f-0eac0029149a",
    "collapsed": false,
    "execution": {
     "iopub.execute_input": "2024-12-26T13:40:14.759520Z",
     "iopub.status.busy": "2024-12-26T13:40:14.759202Z",
     "iopub.status.idle": "2024-12-26T13:40:14.852725Z",
     "shell.execute_reply": "2024-12-26T13:40:14.851702Z",
     "shell.execute_reply.started": "2024-12-26T13:40:14.759497Z"
    },
    "jupyter": {
     "outputs_hidden": false
    },
    "trusted": true
   },
   "outputs": [],
   "source": [
    "scaler = MinMaxScaler()\n",
    "X_train_scaled = scaler.fit_transform(\n",
    "    X_train_features.reshape(X_train_features.shape[0], -1)\n",
    ")\n",
    "X_test_scaled = scaler.transform(\n",
    "    X_test_features.reshape(X_test_features.shape[0], -1)\n",
    ")\n",
    "\n",
    "X_train_reshaped = X_train_scaled.reshape(\n",
    "    X_train_scaled.shape[0], \n",
    "    X_train_features.shape[1], \n",
    "    X_train_features.shape[2]\n",
    ")\n",
    "X_test_reshaped = X_test_scaled.reshape(\n",
    "    X_test_scaled.shape[0], \n",
    "    X_test_features.shape[1], \n",
    "    X_test_features.shape[2]\n",
    ")\n",
    "\n",
    "X_train_reshaped.shape, X_test_reshaped.shape"
   ]
  },
  {
   "cell_type": "code",
   "execution_count": 31,
   "metadata": {
    "_cell_guid": "d0c2ab9f-1254-42e5-a63e-a088172f6ec7",
    "_uuid": "2642c40d-57c6-4c0f-85bd-c18794ffa5d1",
    "collapsed": false,
    "execution": {
     "iopub.execute_input": "2024-12-26T13:40:15.704533Z",
     "iopub.status.busy": "2024-12-26T13:40:15.704208Z",
     "iopub.status.idle": "2024-12-26T13:40:15.708827Z",
     "shell.execute_reply": "2024-12-26T13:40:15.707795Z",
     "shell.execute_reply.started": "2024-12-26T13:40:15.704511Z"
    },
    "jupyter": {
     "outputs_hidden": false
    },
    "trusted": true
   },
   "outputs": [],
   "source": [
    "del X_train_features\n",
    "del X_test_features\n",
    "del X_train_scaled\n",
    "del X_test_scaled"
   ]
  },
  {
   "cell_type": "code",
   "execution_count": null,
   "metadata": {
    "_cell_guid": "a2873a0e-de1c-4ed0-bb72-aa4a97b54b04",
    "_uuid": "904b78f3-1a6e-463a-adf6-3a7459690aec",
    "collapsed": false,
    "execution": {
     "iopub.execute_input": "2024-12-26T13:40:17.571723Z",
     "iopub.status.busy": "2024-12-26T13:40:17.571400Z",
     "iopub.status.idle": "2024-12-26T13:40:17.577738Z",
     "shell.execute_reply": "2024-12-26T13:40:17.576689Z",
     "shell.execute_reply.started": "2024-12-26T13:40:17.571699Z"
    },
    "jupyter": {
     "outputs_hidden": false
    },
    "trusted": true
   },
   "outputs": [],
   "source": [
    "X_train_reshaped = np.expand_dims(X_train_reshaped, axis=-1)\n",
    "X_test_reshaped = np.expand_dims(X_test_reshaped, axis=-1)\n",
    "\n",
    "X_train_reshaped.shape, X_test_reshaped.shape"
   ]
  },
  {
   "cell_type": "markdown",
   "metadata": {
    "_cell_guid": "a042c07c-314f-412e-95f3-d537d453b403",
    "_uuid": "e33d86de-4e2e-429f-afad-39758e0c1a56",
    "collapsed": false,
    "jupyter": {
     "outputs_hidden": false
    },
    "trusted": true
   },
   "source": [
    "**Model configs**"
   ]
  },
  {
   "cell_type": "code",
   "execution_count": null,
   "metadata": {
    "_cell_guid": "02011a86-4185-4fae-b427-913d2f1854a4",
    "_uuid": "a03139cd-b5aa-4343-891d-a575ff4f2238",
    "collapsed": false,
    "execution": {
     "iopub.execute_input": "2024-12-26T13:40:22.001549Z",
     "iopub.status.busy": "2024-12-26T13:40:22.001247Z",
     "iopub.status.idle": "2024-12-26T13:40:22.411100Z",
     "shell.execute_reply": "2024-12-26T13:40:22.410217Z",
     "shell.execute_reply.started": "2024-12-26T13:40:22.001527Z"
    },
    "jupyter": {
     "outputs_hidden": false
    },
    "trusted": true
   },
   "outputs": [],
   "source": [
    "model_2 = CNN_BiLSTM((X_train_reshaped.shape[1], X_train_reshaped.shape[2], X_train_reshaped.shape[3]))\n",
    "\n",
    "# Compile the model\n",
    "model_2.compile(\n",
    "    optimizer='adam', \n",
    "    loss='mse', \n",
    "    metrics=['mae']\n",
    ")\n",
    "\n",
    "# Summary\n",
    "model_2.summary()"
   ]
  },
  {
   "cell_type": "code",
   "execution_count": 34,
   "metadata": {
    "_cell_guid": "b1f1ec44-8310-4f1b-afcf-7dbc39555e1c",
    "_uuid": "0de6be9f-40a9-4e9b-bd82-76ce99cc636c",
    "collapsed": false,
    "execution": {
     "iopub.execute_input": "2024-12-26T13:40:31.895707Z",
     "iopub.status.busy": "2024-12-26T13:40:31.895373Z",
     "iopub.status.idle": "2024-12-26T13:40:31.899865Z",
     "shell.execute_reply": "2024-12-26T13:40:31.898866Z",
     "shell.execute_reply.started": "2024-12-26T13:40:31.895678Z"
    },
    "jupyter": {
     "outputs_hidden": false
    },
    "trusted": true
   },
   "outputs": [],
   "source": [
    "early_stopping = EarlyStopping(\n",
    "    monitor='val_loss',\n",
    "    patience=10, \n",
    "    restore_best_weights=True  # Restore the weights of the best epoch\n",
    ")"
   ]
  },
  {
   "cell_type": "markdown",
   "metadata": {
    "_cell_guid": "52131c80-8ee3-45ea-807c-5e46fe34d6b9",
    "_uuid": "6e808293-7ed1-45cf-bc37-0f25df8582c2",
    "collapsed": false,
    "jupyter": {
     "outputs_hidden": false
    },
    "trusted": true
   },
   "source": [
    "**Training**"
   ]
  },
  {
   "cell_type": "code",
   "execution_count": null,
   "metadata": {
    "_cell_guid": "6e8d1de9-d821-4218-b49d-7d9888013e55",
    "_uuid": "e42c81fd-435c-4e13-b153-421abd3d61f3",
    "collapsed": false,
    "execution": {
     "iopub.execute_input": "2024-12-26T05:55:05.785537Z",
     "iopub.status.busy": "2024-12-26T05:55:05.785246Z",
     "iopub.status.idle": "2024-12-26T05:56:09.355179Z",
     "shell.execute_reply": "2024-12-26T05:56:09.354504Z",
     "shell.execute_reply.started": "2024-12-26T05:55:05.785508Z"
    },
    "jupyter": {
     "outputs_hidden": false
    },
    "scrolled": true,
    "trusted": true
   },
   "outputs": [],
   "source": [
    "history = model_2.fit(\n",
    "    X_train_reshaped, y_train, \n",
    "    validation_data=(X_test_reshaped, y_test), \n",
    "    epochs=200, \n",
    "    batch_size=32, \n",
    "    callbacks=[early_stopping]\n",
    ")"
   ]
  },
  {
   "cell_type": "markdown",
   "metadata": {
    "_cell_guid": "8c3722ad-26f4-4fc2-972f-65e35b3f4e31",
    "_uuid": "982532ca-10bb-43db-a0d5-73151409ff8d",
    "collapsed": false,
    "jupyter": {
     "outputs_hidden": false
    },
    "trusted": true
   },
   "source": [
    "**Evaluation**"
   ]
  },
  {
   "cell_type": "code",
   "execution_count": null,
   "metadata": {
    "_cell_guid": "21622d93-89a3-4204-9dc9-bd2f1ca8c36f",
    "_uuid": "5c9eacc4-6a12-4a48-aab1-89927cffdc88",
    "collapsed": false,
    "execution": {
     "iopub.execute_input": "2024-12-26T05:56:09.356534Z",
     "iopub.status.busy": "2024-12-26T05:56:09.356307Z",
     "iopub.status.idle": "2024-12-26T05:56:09.792623Z",
     "shell.execute_reply": "2024-12-26T05:56:09.791857Z",
     "shell.execute_reply.started": "2024-12-26T05:56:09.356514Z"
    },
    "jupyter": {
     "outputs_hidden": false
    },
    "trusted": true
   },
   "outputs": [],
   "source": [
    "loss, mae = model_2.evaluate(X_test_reshaped, y_test)\n",
    "print(f\"Test Loss (MSE): {loss}, Test MAE: {mae}\")"
   ]
  },
  {
   "cell_type": "code",
   "execution_count": null,
   "metadata": {
    "_cell_guid": "71cfc7fb-ec13-4da7-a85f-6c57108dba9c",
    "_uuid": "2f1c088b-a597-438b-aab2-16c4e8c9a5d2",
    "collapsed": false,
    "execution": {
     "iopub.execute_input": "2024-12-26T05:56:09.793796Z",
     "iopub.status.busy": "2024-12-26T05:56:09.793490Z",
     "iopub.status.idle": "2024-12-26T05:56:10.572542Z",
     "shell.execute_reply": "2024-12-26T05:56:10.571602Z",
     "shell.execute_reply.started": "2024-12-26T05:56:09.793761Z"
    },
    "jupyter": {
     "outputs_hidden": false
    },
    "scrolled": true,
    "trusted": true
   },
   "outputs": [],
   "source": [
    "y_pred = model_2.predict(X_test_reshaped[::50])  # Model outputs predictions\n",
    "\n",
    "# Print predictions vs. real labels\n",
    "for i, real_label in enumerate(y_test[::50]):  # Use enumerate to get the index\n",
    "    print(f\"Sample {i+1}: Prediction = {y_pred[i][0]:.2f}, Real Label = {real_label:.2f}\")"
   ]
  },
  {
   "cell_type": "markdown",
   "metadata": {
    "_cell_guid": "7ad7c9e3-9ef4-4f98-9b8b-5e4db3838a9a",
    "_uuid": "2f97a550-d27d-45cd-9cac-2172e8813331",
    "collapsed": false,
    "jupyter": {
     "outputs_hidden": false
    },
    "trusted": true
   },
   "source": [
    "**Plotting learning curve**"
   ]
  },
  {
   "cell_type": "code",
   "execution_count": null,
   "metadata": {
    "_cell_guid": "0ab30324-55c0-406b-a5c7-c6dcd1035a4b",
    "_uuid": "5a6ccf80-9511-4f30-8966-9ac52d2868f6",
    "collapsed": false,
    "execution": {
     "iopub.execute_input": "2024-12-26T05:56:10.574128Z",
     "iopub.status.busy": "2024-12-26T05:56:10.573520Z",
     "iopub.status.idle": "2024-12-26T05:56:11.139599Z",
     "shell.execute_reply": "2024-12-26T05:56:11.138627Z",
     "shell.execute_reply.started": "2024-12-26T05:56:10.574102Z"
    },
    "jupyter": {
     "outputs_hidden": false
    },
    "trusted": true
   },
   "outputs": [],
   "source": [
    "# Extract loss and MAE data from the training history\n",
    "loss = history.history['loss']\n",
    "val_loss = history.history['val_loss']\n",
    "mae = history.history['mae']\n",
    "val_mae = history.history['val_mae']\n",
    "\n",
    "# Plot the loss and MAE graphs\n",
    "plt.figure(figsize=(12, 6))\n",
    "\n",
    "# Loss\n",
    "plt.subplot(1, 2, 1)\n",
    "plt.plot(range(1, len(loss) + 1), loss, label='Training Loss')\n",
    "plt.plot(range(1, len(val_loss) + 1), val_loss, label='Validation Loss')\n",
    "plt.xlabel('Epochs')\n",
    "plt.ylabel('Loss')\n",
    "plt.title('Loss over Epochs')\n",
    "plt.legend()\n",
    "\n",
    "# MAE\n",
    "plt.subplot(1, 2, 2)\n",
    "plt.plot(range(1, len(mae) + 1), mae, label='Training MAE')\n",
    "plt.plot(range(1, len(val_mae) + 1), val_mae, label='Validation MAE')\n",
    "plt.xlabel('Epochs')\n",
    "plt.ylabel('MAE')\n",
    "plt.title('MAE over Epochs')\n",
    "plt.legend()\n",
    "\n",
    "# Display\n",
    "plt.tight_layout()\n",
    "plt.show()"
   ]
  },
  {
   "cell_type": "code",
   "execution_count": 39,
   "metadata": {
    "_cell_guid": "bc82898f-23ad-4694-98e9-c6f70292b6ba",
    "_uuid": "1a949e1e-48c7-4ce1-a4cc-a0c9523b11a4",
    "collapsed": false,
    "execution": {
     "iopub.execute_input": "2024-12-26T13:40:45.727438Z",
     "iopub.status.busy": "2024-12-26T13:40:45.727135Z",
     "iopub.status.idle": "2024-12-26T13:40:45.731393Z",
     "shell.execute_reply": "2024-12-26T13:40:45.730399Z",
     "shell.execute_reply.started": "2024-12-26T13:40:45.727416Z"
    },
    "jupyter": {
     "outputs_hidden": false
    },
    "trusted": true
   },
   "outputs": [],
   "source": [
    "del model_2"
   ]
  },
  {
   "cell_type": "code",
   "execution_count": null,
   "metadata": {
    "_cell_guid": "906023a2-dd05-4f2a-9343-6d2ef63cf611",
    "_uuid": "c963c4d9-e418-4479-ab74-84aed893aef0",
    "collapsed": false,
    "execution": {
     "iopub.execute_input": "2024-12-26T13:40:46.580604Z",
     "iopub.status.busy": "2024-12-26T13:40:46.580245Z",
     "iopub.status.idle": "2024-12-26T13:40:46.586409Z",
     "shell.execute_reply": "2024-12-26T13:40:46.585541Z",
     "shell.execute_reply.started": "2024-12-26T13:40:46.580575Z"
    },
    "jupyter": {
     "outputs_hidden": false
    },
    "trusted": true
   },
   "outputs": [],
   "source": [
    "X_train_reshaped = np.squeeze(X_train_reshaped, axis=-1)\n",
    "X_test_reshaped = np.squeeze(X_test_reshaped, axis=-1)\n",
    "\n",
    "X_train_reshaped.shape, X_test_reshaped.shape"
   ]
  },
  {
   "cell_type": "markdown",
   "metadata": {
    "_cell_guid": "567776a7-2005-4ed7-b4dd-6f87271b8e84",
    "_uuid": "dd0337b9-54e4-4741-949b-d56792ec1d20",
    "collapsed": false,
    "jupyter": {
     "outputs_hidden": false
    },
    "trusted": true
   },
   "source": [
    "## LSTM"
   ]
  },
  {
   "cell_type": "markdown",
   "metadata": {
    "_cell_guid": "891df9e2-3f9a-47ba-a536-0f99901e1993",
    "_uuid": "752bb20a-9b6b-41a5-842a-be5c7f66c9cc",
    "collapsed": false,
    "jupyter": {
     "outputs_hidden": false
    },
    "trusted": true
   },
   "source": [
    "### This model is trained on preprocessed data"
   ]
  },
  {
   "cell_type": "code",
   "execution_count": 41,
   "metadata": {
    "_cell_guid": "a75f20d0-0ce7-4944-a719-5fdcc319b104",
    "_uuid": "9932c769-aaf1-428a-b256-e221087d3ef0",
    "collapsed": false,
    "execution": {
     "iopub.execute_input": "2024-12-26T13:41:39.575255Z",
     "iopub.status.busy": "2024-12-26T13:41:39.574856Z",
     "iopub.status.idle": "2024-12-26T13:41:39.580738Z",
     "shell.execute_reply": "2024-12-26T13:41:39.579834Z",
     "shell.execute_reply.started": "2024-12-26T13:41:39.575226Z"
    },
    "jupyter": {
     "outputs_hidden": false
    },
    "trusted": true
   },
   "outputs": [],
   "source": [
    "def create_lstm_model(input_shape):\n",
    "    \"\"\"\n",
    "    Creates an LSTM-based neural network model for time series or sequential data prediction tasks.\n",
    "    \n",
    "    The model consists of multiple LSTM layers for sequence processing, \n",
    "    followed by fully connected layers for feature extraction and output prediction. \n",
    "    Batch normalization and dropout layers are used for regularization to improve \n",
    "    model generalization and prevent overfitting.\n",
    "    \n",
    "    Parameters:\n",
    "    ----------\n",
    "    input_shape : tuple\n",
    "        The shape of the input data, excluding the batch size. For example, \n",
    "        for a dataset with 100 timesteps and 10 features, input_shape should be (100, 10).\n",
    "\n",
    "    Returns:\n",
    "    -------\n",
    "    model : keras.Sequential\n",
    "        A compiled Keras Sequential model with LSTM layers and fully connected layers.\n",
    "    \n",
    "    Model Architecture:\n",
    "    -------------------\n",
    "    1. Input Layer: Batch Normalization to normalize the input data.\n",
    "    2. LSTM Layer 1: 256 units with return_sequences=True to output sequences for the next layer.\n",
    "       - Batch Normalization\n",
    "       - Dropout (rate: 0.4)\n",
    "    3. LSTM Layer 2: 128 units with return_sequences=True.\n",
    "       - Batch Normalization\n",
    "       - Dropout (rate: 0.4)\n",
    "    4. LSTM Layer 3: 64 units (final LSTM layer).\n",
    "       - Batch Normalization\n",
    "       - Dropout (rate: 0.3)\n",
    "    5. Dense Layer 1: Fully connected layer with 32 neurons and ReLU activation.\n",
    "       - Batch Normalization\n",
    "       - Dropout (rate: 0.2)\n",
    "    6. Dense Layer 2: Fully connected layer with 16 neurons and ReLU activation.\n",
    "       - Batch Normalization\n",
    "    7. Output Layer: Fully connected layer with 1 neuron and linear activation for regression output.\n",
    "    \n",
    "    Notes:\n",
    "    ------\n",
    "    - Ensure the input data shape matches the `input_shape` specified.\n",
    "    - The model's final output is designed for regression tasks. For classification, \n",
    "      modify the output layer activation and loss function accordingly.\n",
    "    \"\"\"\n",
    "    model = Sequential([\n",
    "        BatchNormalization(input_shape=input_shape),\n",
    "        LSTM(256, return_sequences=True),\n",
    "        BatchNormalization(),\n",
    "        Dropout(0.4),\n",
    "        \n",
    "        LSTM(128, return_sequences=True),\n",
    "        BatchNormalization(),\n",
    "        Dropout(0.4),\n",
    "        \n",
    "        LSTM(64),\n",
    "        BatchNormalization(),\n",
    "        Dropout(0.3),\n",
    "        \n",
    "        Dense(32, activation='relu'),\n",
    "        BatchNormalization(),\n",
    "        Dropout(0.2),\n",
    "        \n",
    "        Dense(16, activation='relu'),\n",
    "        BatchNormalization(),\n",
    "        \n",
    "        Dense(1, activation='linear')\n",
    "    ])\n",
    "    \n",
    "    return model"
   ]
  },
  {
   "cell_type": "markdown",
   "metadata": {
    "_cell_guid": "6ee43f71-9d22-49f5-b5d2-c39793ced650",
    "_uuid": "d5a624e9-e1ea-4eea-890a-674475b6e617",
    "collapsed": false,
    "jupyter": {
     "outputs_hidden": false
    },
    "trusted": true
   },
   "source": [
    "**Model configs**"
   ]
  },
  {
   "cell_type": "code",
   "execution_count": null,
   "metadata": {
    "_cell_guid": "ad77def6-1e57-4faa-8587-0b1741eedca6",
    "_uuid": "d7d2a920-8ac0-45a9-93b9-3c7535f65dcd",
    "collapsed": false,
    "execution": {
     "iopub.execute_input": "2024-12-26T13:41:42.815245Z",
     "iopub.status.busy": "2024-12-26T13:41:42.814914Z",
     "iopub.status.idle": "2024-12-26T13:41:42.998234Z",
     "shell.execute_reply": "2024-12-26T13:41:42.997351Z",
     "shell.execute_reply.started": "2024-12-26T13:41:42.815222Z"
    },
    "jupyter": {
     "outputs_hidden": false
    },
    "trusted": true
   },
   "outputs": [],
   "source": [
    "model_3 = create_lstm_model((X_train_reshaped.shape[1], X_train_reshaped.shape[2]))\n",
    "\n",
    "model_3.compile(\n",
    "    optimizer=tf.keras.optimizers.Adam(learning_rate=0.001),\n",
    "    loss='mse', \n",
    "    metrics=['mae']\n",
    ")\n",
    "\n",
    "# Callbacks\n",
    "callbacks = [\n",
    "    EarlyStopping(\n",
    "        monitor='val_mae',\n",
    "        patience=15,\n",
    "        restore_best_weights=True\n",
    "    ),\n",
    "    ReduceLROnPlateau(\n",
    "        monitor='val_mae',\n",
    "        factor=0.5,\n",
    "        patience=7,\n",
    "        min_lr=1e-6\n",
    "    )\n",
    "]\n",
    "\n",
    "model_3.summary()"
   ]
  },
  {
   "cell_type": "markdown",
   "metadata": {
    "_cell_guid": "f9ee2f1f-1622-4ced-b173-15d294bddc8c",
    "_uuid": "e61a4dbf-55e0-413d-aded-9b56eb4fdde3",
    "collapsed": false,
    "jupyter": {
     "outputs_hidden": false
    },
    "trusted": true
   },
   "source": [
    "**Training**"
   ]
  },
  {
   "cell_type": "code",
   "execution_count": null,
   "metadata": {
    "_cell_guid": "327c3f05-a477-451c-b297-fced0cb757bb",
    "_uuid": "38a213d3-7d72-4fc6-9b27-ac84831ae721",
    "collapsed": false,
    "execution": {
     "iopub.execute_input": "2024-12-26T05:56:11.363381Z",
     "iopub.status.busy": "2024-12-26T05:56:11.363007Z",
     "iopub.status.idle": "2024-12-26T05:58:05.633748Z",
     "shell.execute_reply": "2024-12-26T05:58:05.633009Z",
     "shell.execute_reply.started": "2024-12-26T05:56:11.363348Z"
    },
    "jupyter": {
     "outputs_hidden": false
    },
    "scrolled": true,
    "trusted": true
   },
   "outputs": [],
   "source": [
    "# Training\n",
    "history = model_3.fit(\n",
    "    X_train_reshaped, y_train,\n",
    "    validation_data=(X_test_reshaped, y_test),\n",
    "    epochs=200,\n",
    "    batch_size=32,\n",
    "    callbacks=callbacks,\n",
    "    verbose=1\n",
    ")"
   ]
  },
  {
   "cell_type": "markdown",
   "metadata": {
    "_cell_guid": "c34cca55-406b-4c2e-a485-060722a1cc77",
    "_uuid": "87279235-9588-49f8-abe4-5f4ec3bfc8ee",
    "collapsed": false,
    "jupyter": {
     "outputs_hidden": false
    },
    "trusted": true
   },
   "source": [
    "**Evaluating**"
   ]
  },
  {
   "cell_type": "code",
   "execution_count": null,
   "metadata": {
    "_cell_guid": "e1551d46-d295-48bc-9ae0-dcea64202565",
    "_uuid": "6a4f3ea0-29d0-430e-ace5-8daac251687c",
    "collapsed": false,
    "execution": {
     "iopub.execute_input": "2024-12-26T05:58:05.634969Z",
     "iopub.status.busy": "2024-12-26T05:58:05.634693Z",
     "iopub.status.idle": "2024-12-26T05:58:06.201894Z",
     "shell.execute_reply": "2024-12-26T05:58:06.200805Z",
     "shell.execute_reply.started": "2024-12-26T05:58:05.634947Z"
    },
    "jupyter": {
     "outputs_hidden": false
    },
    "scrolled": true,
    "trusted": true
   },
   "outputs": [],
   "source": [
    "loss, mae = model_3.evaluate(X_test_reshaped, y_test)\n",
    "print(f\"Test Loss (MSE): {loss}, Test MAE: {mae}\")"
   ]
  },
  {
   "cell_type": "code",
   "execution_count": null,
   "metadata": {
    "_cell_guid": "cffa2951-a059-4b2b-8ce1-be0548e1eabe",
    "_uuid": "9a6ac58c-d542-4ebb-b529-e2bfdf6761f2",
    "collapsed": false,
    "execution": {
     "iopub.execute_input": "2024-12-26T05:58:06.203332Z",
     "iopub.status.busy": "2024-12-26T05:58:06.202972Z",
     "iopub.status.idle": "2024-12-26T05:58:06.911951Z",
     "shell.execute_reply": "2024-12-26T05:58:06.909550Z",
     "shell.execute_reply.started": "2024-12-26T05:58:06.203298Z"
    },
    "jupyter": {
     "outputs_hidden": false
    },
    "scrolled": true,
    "trusted": true
   },
   "outputs": [],
   "source": [
    "# Make predictions\n",
    "y_pred = model_3.predict(X_test_reshaped[::50])  # Model outputs predictions\n",
    "\n",
    "# Print predictions vs. real labels\n",
    "for i, real_label in enumerate(y_test[::50]):  # Use enumerate to get the index\n",
    "    print(f\"Sample {i+1}: Prediction = {y_pred[i][0]:.2f}, Real Label = {real_label:.2f}\")"
   ]
  },
  {
   "cell_type": "markdown",
   "metadata": {
    "_cell_guid": "f2ae6f03-b396-4f11-8a8e-ef6f84850e6d",
    "_uuid": "165ce926-07d0-4179-bc3b-ba76bf629ef8",
    "collapsed": false,
    "jupyter": {
     "outputs_hidden": false
    },
    "trusted": true
   },
   "source": [
    "**Plotting learning curve**"
   ]
  },
  {
   "cell_type": "code",
   "execution_count": null,
   "metadata": {
    "_cell_guid": "823df971-a8d1-4fbd-a7c5-8bdfa5b74b59",
    "_uuid": "530a9ebb-76b6-4fd8-8dda-1a67caf2e516",
    "collapsed": false,
    "execution": {
     "iopub.execute_input": "2024-12-26T05:58:06.913280Z",
     "iopub.status.busy": "2024-12-26T05:58:06.912958Z",
     "iopub.status.idle": "2024-12-26T05:58:07.474877Z",
     "shell.execute_reply": "2024-12-26T05:58:07.473949Z",
     "shell.execute_reply.started": "2024-12-26T05:58:06.913246Z"
    },
    "jupyter": {
     "outputs_hidden": false
    },
    "trusted": true
   },
   "outputs": [],
   "source": [
    "# Extract loss and MAE data from the training history\n",
    "loss = history.history['loss']\n",
    "val_loss = history.history['val_loss']\n",
    "mae = history.history['mae']\n",
    "val_mae = history.history['val_mae']\n",
    "\n",
    "# Plot the loss and MAE graphs\n",
    "plt.figure(figsize=(12, 6))\n",
    "\n",
    "# Loss\n",
    "plt.subplot(1, 2, 1)\n",
    "plt.plot(range(1, len(loss) + 1), loss, label='Training Loss')\n",
    "plt.plot(range(1, len(val_loss) + 1), val_loss, label='Validation Loss')\n",
    "plt.xlabel('Epochs')\n",
    "plt.ylabel('Loss')\n",
    "plt.title('Loss over Epochs')\n",
    "plt.legend()\n",
    "\n",
    "# MAE\n",
    "plt.subplot(1, 2, 2)\n",
    "plt.plot(range(1, len(mae) + 1), mae, label='Training MAE')\n",
    "plt.plot(range(1, len(val_mae) + 1), val_mae, label='Validation MAE')\n",
    "plt.xlabel('Epochs')\n",
    "plt.ylabel('MAE')\n",
    "plt.title('MAE over Epochs')\n",
    "plt.legend()\n",
    "\n",
    "# Display\n",
    "plt.tight_layout()\n",
    "plt.show()"
   ]
  },
  {
   "cell_type": "markdown",
   "metadata": {
    "_cell_guid": "2ae0f883-da4d-485d-8dfd-b318392c0b99",
    "_uuid": "24944841-2ee1-4bf5-936b-0870e1ccca58",
    "collapsed": false,
    "jupyter": {
     "outputs_hidden": false
    },
    "trusted": true
   },
   "source": [
    "# Machine learning models"
   ]
  },
  {
   "cell_type": "code",
   "execution_count": null,
   "metadata": {
    "_cell_guid": "a649e2b3-d2be-4321-ba5e-9e25cb00d204",
    "_uuid": "949c1ced-435f-472c-9b78-fa8c343b4c1a",
    "collapsed": false,
    "execution": {
     "iopub.execute_input": "2024-12-26T13:42:11.490436Z",
     "iopub.status.busy": "2024-12-26T13:42:11.490117Z",
     "iopub.status.idle": "2024-12-26T13:42:11.495708Z",
     "shell.execute_reply": "2024-12-26T13:42:11.494860Z",
     "shell.execute_reply.started": "2024-12-26T13:42:11.490415Z"
    },
    "jupyter": {
     "outputs_hidden": false
    },
    "trusted": true
   },
   "outputs": [],
   "source": [
    "# Flatten the feature dimensions\n",
    "X_train_flat = X_train_reshaped.reshape(X_train_reshaped.shape[0], -1)\n",
    "X_test_flat = X_test_reshaped.reshape(X_test_reshaped.shape[0], -1)\n",
    "\n",
    "# Check the shapes after flattening\n",
    "print(X_train_flat.shape, X_test_flat.shape)  # Should be (n_samples, n_flat_features)"
   ]
  },
  {
   "cell_type": "markdown",
   "metadata": {
    "_cell_guid": "aed79dde-6192-4882-9f13-0acb4a144a4a",
    "_uuid": "628e3e81-142a-44b4-84a1-336863629a0b",
    "collapsed": false,
    "jupyter": {
     "outputs_hidden": false
    },
    "trusted": true
   },
   "source": [
    "## RandomForestRegressor"
   ]
  },
  {
   "cell_type": "code",
   "execution_count": null,
   "metadata": {
    "_cell_guid": "3632cb64-fd70-487e-8bb9-dca9ca6bb69b",
    "_uuid": "f48ac928-d238-461b-bfb3-06651cea044f",
    "collapsed": false,
    "execution": {
     "iopub.execute_input": "2024-12-26T05:58:07.483110Z",
     "iopub.status.busy": "2024-12-26T05:58:07.482811Z",
     "iopub.status.idle": "2024-12-26T06:07:30.336000Z",
     "shell.execute_reply": "2024-12-26T06:07:30.334911Z",
     "shell.execute_reply.started": "2024-12-26T05:58:07.483084Z"
    },
    "jupyter": {
     "outputs_hidden": false
    },
    "trusted": true
   },
   "outputs": [],
   "source": [
    "from sklearn.ensemble import RandomForestRegressor\n",
    "from sklearn.metrics import mean_absolute_error, mean_squared_error\n",
    "\n",
    "# Train the RandomForest model\n",
    "rf_model = RandomForestRegressor(n_estimators=100, random_state=42)\n",
    "rf_model.fit(X_train_flat, y_train)\n",
    "\n",
    "# Make predictions\n",
    "y_pred_train = rf_model.predict(X_train_flat)\n",
    "y_pred_test = rf_model.predict(X_test_flat)\n",
    "\n",
    "# Evaluate the model\n",
    "train_mae = mean_absolute_error(y_train, y_pred_train)\n",
    "train_mse = mean_squared_error(y_train, y_pred_train)\n",
    "\n",
    "test_mae = mean_absolute_error(y_test, y_pred_test)\n",
    "test_mse = mean_squared_error(y_test, y_pred_test)\n",
    "\n",
    "print(f\"Train MAE: {train_mae}\")\n",
    "print(f\"Test MAE: {test_mae}\")"
   ]
  },
  {
   "cell_type": "markdown",
   "metadata": {
    "_cell_guid": "7058457c-e4ee-4706-b202-13d266182634",
    "_uuid": "ff224aba-95c9-4a3e-ad24-5eb5ddaadadc",
    "collapsed": false,
    "jupyter": {
     "outputs_hidden": false
    },
    "trusted": true
   },
   "source": [
    "## XGBRegressor"
   ]
  },
  {
   "cell_type": "code",
   "execution_count": null,
   "metadata": {
    "_cell_guid": "9cf7a92b-7290-4145-82e2-e5670eb373a0",
    "_uuid": "63d60f2a-26b3-4ba3-84cf-543c2ef842ec",
    "collapsed": false,
    "execution": {
     "iopub.execute_input": "2024-12-26T06:07:30.337530Z",
     "iopub.status.busy": "2024-12-26T06:07:30.337127Z",
     "iopub.status.idle": "2024-12-26T06:07:40.653692Z",
     "shell.execute_reply": "2024-12-26T06:07:40.652833Z",
     "shell.execute_reply.started": "2024-12-26T06:07:30.337494Z"
    },
    "jupyter": {
     "outputs_hidden": false
    },
    "trusted": true
   },
   "outputs": [],
   "source": [
    "from xgboost import XGBRegressor\n",
    "\n",
    "xgb_model = XGBRegressor(n_estimators=100, learning_rate=0.1, max_depth=5, random_state=42)\n",
    "xgb_model.fit(X_train_flat, y_train)\n",
    "y_pred_test_xgb = xgb_model.predict(X_test_flat)\n",
    "\n",
    "test_mae_xgb = mean_absolute_error(y_test, y_pred_test_xgb)\n",
    "y_pred_train_xgb = xgb_model.predict(X_train_flat)\n",
    "\n",
    "# Calculate Train MAE\n",
    "train_mae_xgb = mean_absolute_error(y_train, y_pred_train_xgb)\n",
    "\n",
    "# Print Train and Test MAE\n",
    "print(f\"XGBoost Train MAE: {train_mae_xgb}\")\n",
    "print(f\"XGBoost Test MAE: {test_mae_xgb}\")"
   ]
  },
  {
   "cell_type": "markdown",
   "metadata": {
    "_cell_guid": "35550a4b-cf22-4ef6-acde-5d88033c8dc2",
    "_uuid": "0e97450e-4a10-4dc1-9b52-5b50348bd390",
    "collapsed": false,
    "jupyter": {
     "outputs_hidden": false
    },
    "trusted": true
   },
   "source": [
    "## LGBMRegressor"
   ]
  },
  {
   "cell_type": "code",
   "execution_count": null,
   "metadata": {
    "_cell_guid": "315ed3c8-0c30-4a86-b81e-07b23d70ed08",
    "_uuid": "ec507379-481c-477c-9177-f3cea07ff03c",
    "collapsed": false,
    "execution": {
     "iopub.execute_input": "2024-12-26T06:07:40.654579Z",
     "iopub.status.busy": "2024-12-26T06:07:40.654324Z",
     "iopub.status.idle": "2024-12-26T06:07:51.391979Z",
     "shell.execute_reply": "2024-12-26T06:07:51.391089Z",
     "shell.execute_reply.started": "2024-12-26T06:07:40.654555Z"
    },
    "jupyter": {
     "outputs_hidden": false
    },
    "trusted": true
   },
   "outputs": [],
   "source": [
    "from lightgbm import LGBMRegressor\n",
    "\n",
    "lgbm_model = LGBMRegressor(n_estimators=100, learning_rate=0.1, random_state=42)\n",
    "lgbm_model.fit(X_train_flat, y_train)\n",
    "y_pred_lgbm = lgbm_model.predict(X_test_flat)\n",
    "\n",
    "test_mae_lgbm = mean_absolute_error(y_test, y_pred_lgbm)\n",
    "y_pred_train_lgbm = lgbm_model.predict(X_train_flat)\n",
    "\n",
    "# Calculate Train MAE\n",
    "train_mae_lgbm = mean_absolute_error(y_train, y_pred_train_lgbm)\n",
    "\n",
    "# Print Train and Test MAE\n",
    "print(f\"LightGBM Train MAE: {train_mae_xgb}\")\n",
    "print(f\"LightGBM Test MAE: {test_mae_lgbm}\")"
   ]
  },
  {
   "cell_type": "code",
   "execution_count": null,
   "metadata": {
    "_cell_guid": "0b7ff551-9d92-4061-8c4f-106072bf9f56",
    "_uuid": "4ec3922c-4732-4d8c-a736-28ce53a3139f",
    "collapsed": false,
    "execution": {
     "iopub.execute_input": "2024-12-26T06:19:29.605670Z",
     "iopub.status.busy": "2024-12-26T06:19:29.605286Z",
     "iopub.status.idle": "2024-12-26T06:19:29.627572Z",
     "shell.execute_reply": "2024-12-26T06:19:29.626792Z",
     "shell.execute_reply.started": "2024-12-26T06:19:29.605645Z"
    },
    "jupyter": {
     "outputs_hidden": false
    },
    "scrolled": true,
    "trusted": true
   },
   "outputs": [],
   "source": [
    "# Make predictions\n",
    "y_pred = rf_model.predict(X_test_flat[:50])  # Predict on a subset of test data\n",
    "\n",
    "# Print predictions vs. real labels\n",
    "for i in range(len(y_test[:50])):\n",
    "    print(f\"Sample {i+1}: Prediction = {y_pred[i]:.2f}, Real Label = {y_test[i]:.2f}\")"
   ]
  },
  {
   "cell_type": "markdown",
   "metadata": {
    "_cell_guid": "9b80d2f4-48ec-484c-9a56-6db0530aaa5e",
    "_uuid": "062452eb-529b-46a6-8a8f-3230d2674f60",
    "collapsed": false,
    "jupyter": {
     "outputs_hidden": false
    },
    "trusted": true
   },
   "source": [
    "### Bonus visualizations: Correlation map between extracted features from data processing"
   ]
  },
  {
   "cell_type": "code",
   "execution_count": null,
   "metadata": {
    "_cell_guid": "7690de45-b4c9-4b08-9c0e-688a5100e87e",
    "_uuid": "d252c65d-5ce2-41a9-9a0c-20ba8d8e1a5d",
    "collapsed": false,
    "execution": {
     "iopub.execute_input": "2024-12-26T13:42:18.658345Z",
     "iopub.status.busy": "2024-12-26T13:42:18.657956Z",
     "iopub.status.idle": "2024-12-26T13:42:20.201507Z",
     "shell.execute_reply": "2024-12-26T13:42:20.200666Z",
     "shell.execute_reply.started": "2024-12-26T13:42:18.658315Z"
    },
    "jupyter": {
     "outputs_hidden": false
    },
    "trusted": true
   },
   "outputs": [],
   "source": [
    "reshaped_data = X_train_reshaped[0]\n",
    "\n",
    "# Correlation matrix between features\n",
    "correlation_matrix = np.corrcoef(reshaped_data, rowvar=False)\n",
    "\n",
    "# Plot matrix\n",
    "plt.figure(figsize=(12, 8))\n",
    "sns.heatmap(correlation_matrix, annot=True, cmap='coolwarm', linewidths=0.5)\n",
    "plt.title('Correlation Matrix between Features')\n",
    "plt.show()"
   ]
  }
 ],
 "metadata": {
  "kaggle": {
   "accelerator": "nvidiaTeslaT4",
   "dataSources": [
    {
     "datasetId": 6254944,
     "sourceId": 10135310,
     "sourceType": "datasetVersion"
    },
    {
     "datasetId": 6353567,
     "sourceId": 10269228,
     "sourceType": "datasetVersion"
    }
   ],
   "isGpuEnabled": true,
   "isInternetEnabled": true,
   "language": "python",
   "sourceType": "notebook"
  },
  "kernelspec": {
   "display_name": "bci-competition",
   "language": "python",
   "name": "python3"
  },
  "language_info": {
   "codemirror_mode": {
    "name": "ipython",
    "version": 3
   },
   "file_extension": ".py",
   "mimetype": "text/x-python",
   "name": "python",
   "nbconvert_exporter": "python",
   "pygments_lexer": "ipython3",
   "version": "3.8.20"
  }
 },
 "nbformat": 4,
 "nbformat_minor": 4
}
